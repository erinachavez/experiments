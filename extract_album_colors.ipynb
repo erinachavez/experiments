{
 "cells": [
  {
   "cell_type": "markdown",
   "metadata": {},
   "source": [
    "# Extract Color Experiment"
   ]
  },
  {
   "cell_type": "markdown",
   "metadata": {},
   "source": [
    "## Set Up Spotify API Tool"
   ]
  },
  {
   "cell_type": "code",
   "execution_count": 1,
   "metadata": {},
   "outputs": [],
   "source": [
    "import spotipy\n",
    "import spotipy.util as util"
   ]
  },
  {
   "cell_type": "code",
   "execution_count": 2,
   "metadata": {},
   "outputs": [],
   "source": [
    "def get_spotify_object():\n",
    "    CLIENT_ID = \"528ce38cc4474085a235dd445394f1bd\"\n",
    "    CLIENT_SECRET = \"6170bccae7f74a418222ff62cd4b92f5\"\n",
    "\n",
    "    token = util.oauth2.SpotifyClientCredentials(\n",
    "        client_id = CLIENT_ID,\n",
    "        client_secret = CLIENT_SECRET\n",
    "    )\n",
    "\n",
    "    cache_token = token.get_access_token()\n",
    "    return spotipy.Spotify(cache_token)"
   ]
  },
  {
   "cell_type": "markdown",
   "metadata": {},
   "source": [
    "## Search and Return Album Art"
   ]
  },
  {
   "cell_type": "code",
   "execution_count": 3,
   "metadata": {},
   "outputs": [],
   "source": [
    "def get_albums():\n",
    "    query = input(\"Search for an Album: \")\n",
    "    \n",
    "    spotify = get_spotify_object()\n",
    "    results = spotify.search(\n",
    "        q = query,\n",
    "        type = \"album\",\n",
    "        limit = \"3\"\n",
    "    )\n",
    "\n",
    "    if len(results[\"albums\"][\"items\"]) == 0:\n",
    "        print(\"No Albums Found, Please Try Again.\\n\")\n",
    "        get_album_art()\n",
    "\n",
    "    else:\n",
    "        albums = []\n",
    "        for i in range(len(results[\"albums\"][\"items\"])):\n",
    "            album_id = results[\"albums\"][\"items\"][i][\"id\"]\n",
    "            albums.append(spotify.album(album_id))\n",
    "        \n",
    "        return albums"
   ]
  },
  {
   "cell_type": "markdown",
   "metadata": {},
   "source": [
    "## Extract Main Colors"
   ]
  },
  {
   "cell_type": "code",
   "execution_count": 4,
   "metadata": {},
   "outputs": [],
   "source": [
    "from PIL import Image as PilImg\n",
    "import requests\n",
    "from io import BytesIO\n",
    "import colorgram"
   ]
  },
  {
   "cell_type": "code",
   "execution_count": 5,
   "metadata": {
    "scrolled": false
   },
   "outputs": [],
   "source": [
    "def get_album_colors(album_art_url, num_of_colors):\n",
    "    response = requests.get(album_art_url)\n",
    "    img = PilImg.open(BytesIO(response.content))\n",
    "    \n",
    "    colors = colorgram.extract(img, num_of_colors)\n",
    "    return colors"
   ]
  },
  {
   "cell_type": "markdown",
   "metadata": {},
   "source": [
    "## Extract Color from Album"
   ]
  },
  {
   "cell_type": "code",
   "execution_count": 6,
   "metadata": {},
   "outputs": [],
   "source": [
    "from flat import document, shape, rgba"
   ]
  },
  {
   "cell_type": "code",
   "execution_count": 11,
   "metadata": {},
   "outputs": [],
   "source": [
    "def extract_color(album_art_url, color):\n",
    "    response = requests.get(album_art_url)\n",
    "    img = PilImg.open(BytesIO(response.content))\n",
    "    pix = img.load()\n",
    "    width = img.size[0]\n",
    "    height = img.size[1]\n",
    "    \n",
    "    pixels = []\n",
    "    for y in range(height):\n",
    "        for x in range(width):\n",
    "            rgb = pix[x, y]\n",
    "            r = rgb[0]\n",
    "            g = rgb[1]\n",
    "            b = rgb[2]\n",
    "            \n",
    "            pixel = shape()\n",
    "            pixel.nostroke()\n",
    "            \n",
    "            if color[\"r\"] == r and color[\"g\"] == g and color[\"b\"] == b:\n",
    "                pixel.fill(rgba(r, g, b, 255))\n",
    "            \n",
    "            else:\n",
    "                d = ((color[\"r\"]-r)*0.30)**2 + ((color[\"g\"]-g)*0.59)**2 + ((color[\"b\"]-b)*0.11)**2\n",
    "                \n",
    "                if d < 200:\n",
    "                    pixel.fill(rgba(r, g, b, 255))\n",
    "                    \n",
    "                else:\n",
    "                    pixel.fill(rgba(0, 0, 0, 0))\n",
    "                \n",
    "            rect = pixel.rectangle(x, y, 1, 1)\n",
    "            pixels.append(rect)\n",
    "                \n",
    "    return pixels, width, height"
   ]
  },
  {
   "cell_type": "markdown",
   "metadata": {},
   "source": [
    "## Finding Albums, Getting Main Colors"
   ]
  },
  {
   "cell_type": "code",
   "execution_count": 8,
   "metadata": {},
   "outputs": [],
   "source": [
    "from IPython.display import Image, HTML, display"
   ]
  },
  {
   "cell_type": "code",
   "execution_count": 28,
   "metadata": {
    "scrolled": false
   },
   "outputs": [
    {
     "name": "stdout",
     "output_type": "stream",
     "text": [
      "Search for an Album: because i was in love\n"
     ]
    },
    {
     "data": {
      "text/html": [
       "<div style='display: flex;'>\n",
       "        <div style=\"margin-right: 5px;\">\n",
       "            <img src=\"https://i.scdn.co/image/ba13dbacbc54077c2dc15b7fb7ad614bc751a0ca\" />\n",
       "            <p style=\"margin: 0; text-align: center;\">1</p>\n",
       "        </div>\n",
       "    \n",
       "        <div style=\"margin-right: 5px;\">\n",
       "            <img src=\"https://i.scdn.co/image/7c3fa081e135a8a8def43ffb86d1dfe01e932e8b\" />\n",
       "            <p style=\"margin: 0; text-align: center;\">2</p>\n",
       "        </div>\n",
       "    </div>"
      ],
      "text/plain": [
       "<IPython.core.display.HTML object>"
      ]
     },
     "metadata": {},
     "output_type": "display_data"
    },
    {
     "name": "stdout",
     "output_type": "stream",
     "text": [
      "Number of album you'd like to use: 2\n"
     ]
    },
    {
     "data": {
      "text/html": [
       "<div style='display: flex;'>\n",
       "        <div style=\"margin-right: 5px;\">\n",
       "            <div style=\"\n",
       "                width: 50px;\n",
       "                height: 50px;\n",
       "                background-color: rgb(231,223,182);\n",
       "            \"></div>\n",
       "            <p style=\"margin: 0; text-align: center;\">1</p>\n",
       "        </div>\n",
       "    \n",
       "        <div style=\"margin-right: 5px;\">\n",
       "            <div style=\"\n",
       "                width: 50px;\n",
       "                height: 50px;\n",
       "                background-color: rgb(226,204,122);\n",
       "            \"></div>\n",
       "            <p style=\"margin: 0; text-align: center;\">2</p>\n",
       "        </div>\n",
       "    \n",
       "        <div style=\"margin-right: 5px;\">\n",
       "            <div style=\"\n",
       "                width: 50px;\n",
       "                height: 50px;\n",
       "                background-color: rgb(215,182,77);\n",
       "            \"></div>\n",
       "            <p style=\"margin: 0; text-align: center;\">3</p>\n",
       "        </div>\n",
       "    \n",
       "        <div style=\"margin-right: 5px;\">\n",
       "            <div style=\"\n",
       "                width: 50px;\n",
       "                height: 50px;\n",
       "                background-color: rgb(204,172,38);\n",
       "            \"></div>\n",
       "            <p style=\"margin: 0; text-align: center;\">4</p>\n",
       "        </div>\n",
       "    \n",
       "        <div style=\"margin-right: 5px;\">\n",
       "            <div style=\"\n",
       "                width: 50px;\n",
       "                height: 50px;\n",
       "                background-color: rgb(219,236,204);\n",
       "            \"></div>\n",
       "            <p style=\"margin: 0; text-align: center;\">5</p>\n",
       "        </div>\n",
       "    \n",
       "        <div style=\"margin-right: 5px;\">\n",
       "            <div style=\"\n",
       "                width: 50px;\n",
       "                height: 50px;\n",
       "                background-color: rgb(249,223,232);\n",
       "            \"></div>\n",
       "            <p style=\"margin: 0; text-align: center;\">6</p>\n",
       "        </div>\n",
       "    </div>"
      ],
      "text/plain": [
       "<IPython.core.display.HTML object>"
      ]
     },
     "metadata": {},
     "output_type": "display_data"
    },
    {
     "name": "stdout",
     "output_type": "stream",
     "text": [
      "Number of color to extract: 4\n"
     ]
    },
    {
     "data": {
      "image/png": "[encoded data removed]",
      "text/plain": [
       "<IPython.core.display.Image object>"
      ]
     },
     "metadata": {},
     "output_type": "display_data"
    }
   ],
   "source": [
    "albums = get_albums()\n",
    "\n",
    "albums_html = \"\"\n",
    "album_art_urls = []\n",
    "count = 1\n",
    "for i in range(len(albums)):\n",
    "    album_art_urls.append(albums[i][\"images\"][1][\"url\"])\n",
    "    albums_html += '''\n",
    "        <div style=\"margin-right: 5px;\">\n",
    "            <img src=\"''' + album_art_urls[i] + '''\" />\n",
    "            <p style=\"margin: 0; text-align: center;\">''' + str(count) + '''</p>\n",
    "        </div>\n",
    "    '''\n",
    "    count += 1\n",
    "    \n",
    "display(HTML(\"<div style='display: flex;'>\" + albums_html + \"</div>\"))\n",
    "album_number = int(input(\"Number of album you'd like to use: \")) - 1\n",
    "\n",
    "album_colors = get_album_colors(album_art_urls[album_number], 10)\n",
    "colors_html = \"\"\n",
    "count = 1\n",
    "for color in album_colors:\n",
    "    colors_html += '''\n",
    "        <div style=\"margin-right: 5px;\">\n",
    "            <div style=\"\n",
    "                width: 50px;\n",
    "                height: 50px;\n",
    "                background-color: rgb(''' + str(color.rgb.r) + \",\" + str(color.rgb.g) + \",\" + str(color.rgb.b) + ''');\n",
    "            \"></div>\n",
    "            <p style=\"margin: 0; text-align: center;\">''' + str(count) + '''</p>\n",
    "        </div>\n",
    "    '''\n",
    "    count += 1\n",
    "\n",
    "display(HTML(\"<div style='display: flex;'>\" + colors_html + \"</div>\"))\n",
    "color_number = int(input(\"Number of color to extract: \")) - 1\n",
    "\n",
    "color_to_extract = {\n",
    "    \"r\": album_colors[color_number].rgb.r,\n",
    "    \"g\": album_colors[color_number].rgb.g,\n",
    "    \"b\": album_colors[color_number].rgb.b,\n",
    "}\n",
    "pixels, width, height = extract_color(album_art_urls[album_number], color_to_extract)\n",
    "\n",
    "d = document(width, height, \"pt\")\n",
    "page = d.addpage()\n",
    "\n",
    "for pixel in pixels:\n",
    "    page.place(pixel)\n",
    "    \n",
    "display(Image(page.image(kind=\"rgba\").png()))"
   ]
  }
 ],
 "metadata": {
  "kernelspec": {
   "display_name": "Python 3",
   "language": "python",
   "name": "python3"
  },
  "language_info": {
   "codemirror_mode": {
    "name": "ipython",
    "version": 3
   },
   "file_extension": ".py",
   "mimetype": "text/x-python",
   "name": "python",
   "nbconvert_exporter": "python",
   "pygments_lexer": "ipython3",
   "version": "3.6.7rc1"
  }
 },
 "nbformat": 4,
 "nbformat_minor": 2
}
